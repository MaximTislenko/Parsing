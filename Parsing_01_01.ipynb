{
  "nbformat": 4,
  "nbformat_minor": 0,
  "metadata": {
    "colab": {
      "provenance": [],
      "authorship_tag": "ABX9TyPrvw0UFjnWpsA8cm/ff+rV",
      "include_colab_link": true
    },
    "kernelspec": {
      "name": "python3",
      "display_name": "Python 3"
    },
    "language_info": {
      "name": "python"
    }
  },
  "cells": [
    {
      "cell_type": "markdown",
      "metadata": {
        "id": "view-in-github",
        "colab_type": "text"
      },
      "source": [
        "<a href=\"https://colab.research.google.com/github/MaximTislenko/Parsing/blob/main/Parsing_01_01.ipynb\" target=\"_parent\"><img src=\"https://colab.research.google.com/assets/colab-badge.svg\" alt=\"Open In Colab\"/></a>"
      ]
    },
    {
      "cell_type": "code",
      "execution_count": 1,
      "metadata": {
        "id": "_NGUWAh7mqAO"
      },
      "outputs": [],
      "source": [
        "from bs4 import BeautifulSoup"
      ]
    },
    {
      "cell_type": "code",
      "source": [
        "import requests"
      ],
      "metadata": {
        "id": "TXgt5yHimtew"
      },
      "execution_count": 2,
      "outputs": []
    },
    {
      "cell_type": "code",
      "source": [
        "from http.cookiejar import CookieJar\n",
        "url = 'https://yandex.com.am/weather/?lat=56.33122827234496&lon=37.540197101642505'\n",
        "response = requests.get(url)\n",
        "bs = BeautifulSoup(response.text,\"lxml\")\n",
        "temp = (bs.find('span', 'temp__value temp__value_with-unit')).text\n",
        "speed = (bs.find('span', 'wind-speed')).text\n",
        "direction = (bs.find('abbr', 'icon-abbr')).text\n",
        "humidity = (bs.find('div', 'term term_orient_v fact__humidity')).text[:2]\n",
        "pressure = (bs.find('div', 'term term_orient_v fact__pressure')).text[:3]\n",
        "print('Погода в райне моего дома')\n",
        "print('=' * 25)\n",
        "print('Температура - ', temp,'\\u00b0','C')\n",
        "print('-' * 25)\n",
        "print('Ветер - ', direction, 'со скоростью ', speed, ' метров в секунду')\n",
        "print('-' * 25)\n",
        "print('Влажность - ', humidity, '%')\n",
        "print('-' * 25)\n",
        "print('Давление - ', pressure,' мм.рт.ст.')"
      ],
      "metadata": {
        "colab": {
          "base_uri": "https://localhost:8080/"
        },
        "id": "x5ZNOIeimyvP",
        "outputId": "988f0cae-701e-4cee-9e71-6685fb2b1109"
      },
      "execution_count": 4,
      "outputs": [
        {
          "output_type": "stream",
          "name": "stdout",
          "text": [
            "Погода в райне моего дома\n",
            "=========================\n",
            "Температура -  +8 ° C\n",
            "-------------------------\n",
            "Ветер -  СЗ со скоростью  1,6  метров в секунду\n",
            "-------------------------\n",
            "Влажность -  90 %\n",
            "-------------------------\n",
            "Давление -  742  мм.рт.ст.\n"
          ]
        }
      ]
    },
    {
      "cell_type": "code",
      "source": [
        "import pandas as pd\n"
      ],
      "metadata": {
        "id": "TJYYiDe1VyZM"
      },
      "execution_count": 5,
      "outputs": []
    },
    {
      "cell_type": "code",
      "source": [
        "columns = ['Date_Time','Температура, по Цельсию', 'Скорость_ветра, метры в секунду', 'Направление_ветра', 'Влажность, %%', 'Давление, мм.рт.ст']\n",
        "x = table_01 = pd.DataFrame(data= None, index= None, columns= columns)\n",
        "x"
      ],
      "metadata": {
        "id": "3cpU3ReWV5uT",
        "outputId": "79b4e0d2-04c8-4fd3-ff81-a4f5e2d8b14f",
        "colab": {
          "base_uri": "https://localhost:8080/",
          "height": 53
        }
      },
      "execution_count": 14,
      "outputs": [
        {
          "output_type": "execute_result",
          "data": {
            "text/plain": [
              "Empty DataFrame\n",
              "Columns: [Date_Time, Температура, по Цельсию, Скорость_ветра, метры в секунду, Направление_ветра, Влажность, %%, Давление, мм.рт.ст]\n",
              "Index: []"
            ],
            "text/html": [
              "\n",
              "  <div id=\"df-fb801e1a-1bd9-426b-9336-61a0832624cc\" class=\"colab-df-container\">\n",
              "    <div>\n",
              "<style scoped>\n",
              "    .dataframe tbody tr th:only-of-type {\n",
              "        vertical-align: middle;\n",
              "    }\n",
              "\n",
              "    .dataframe tbody tr th {\n",
              "        vertical-align: top;\n",
              "    }\n",
              "\n",
              "    .dataframe thead th {\n",
              "        text-align: right;\n",
              "    }\n",
              "</style>\n",
              "<table border=\"1\" class=\"dataframe\">\n",
              "  <thead>\n",
              "    <tr style=\"text-align: right;\">\n",
              "      <th></th>\n",
              "      <th>Date_Time</th>\n",
              "      <th>Температура, по Цельсию</th>\n",
              "      <th>Скорость_ветра, метры в секунду</th>\n",
              "      <th>Направление_ветра</th>\n",
              "      <th>Влажность, %%</th>\n",
              "      <th>Давление, мм.рт.ст</th>\n",
              "    </tr>\n",
              "  </thead>\n",
              "  <tbody>\n",
              "  </tbody>\n",
              "</table>\n",
              "</div>\n",
              "    <div class=\"colab-df-buttons\">\n",
              "\n",
              "  <div class=\"colab-df-container\">\n",
              "    <button class=\"colab-df-convert\" onclick=\"convertToInteractive('df-fb801e1a-1bd9-426b-9336-61a0832624cc')\"\n",
              "            title=\"Convert this dataframe to an interactive table.\"\n",
              "            style=\"display:none;\">\n",
              "\n",
              "  <svg xmlns=\"http://www.w3.org/2000/svg\" height=\"24px\" viewBox=\"0 -960 960 960\">\n",
              "    <path d=\"M120-120v-720h720v720H120Zm60-500h600v-160H180v160Zm220 220h160v-160H400v160Zm0 220h160v-160H400v160ZM180-400h160v-160H180v160Zm440 0h160v-160H620v160ZM180-180h160v-160H180v160Zm440 0h160v-160H620v160Z\"/>\n",
              "  </svg>\n",
              "    </button>\n",
              "\n",
              "  <style>\n",
              "    .colab-df-container {\n",
              "      display:flex;\n",
              "      gap: 12px;\n",
              "    }\n",
              "\n",
              "    .colab-df-convert {\n",
              "      background-color: #E8F0FE;\n",
              "      border: none;\n",
              "      border-radius: 50%;\n",
              "      cursor: pointer;\n",
              "      display: none;\n",
              "      fill: #1967D2;\n",
              "      height: 32px;\n",
              "      padding: 0 0 0 0;\n",
              "      width: 32px;\n",
              "    }\n",
              "\n",
              "    .colab-df-convert:hover {\n",
              "      background-color: #E2EBFA;\n",
              "      box-shadow: 0px 1px 2px rgba(60, 64, 67, 0.3), 0px 1px 3px 1px rgba(60, 64, 67, 0.15);\n",
              "      fill: #174EA6;\n",
              "    }\n",
              "\n",
              "    .colab-df-buttons div {\n",
              "      margin-bottom: 4px;\n",
              "    }\n",
              "\n",
              "    [theme=dark] .colab-df-convert {\n",
              "      background-color: #3B4455;\n",
              "      fill: #D2E3FC;\n",
              "    }\n",
              "\n",
              "    [theme=dark] .colab-df-convert:hover {\n",
              "      background-color: #434B5C;\n",
              "      box-shadow: 0px 1px 3px 1px rgba(0, 0, 0, 0.15);\n",
              "      filter: drop-shadow(0px 1px 2px rgba(0, 0, 0, 0.3));\n",
              "      fill: #FFFFFF;\n",
              "    }\n",
              "  </style>\n",
              "\n",
              "    <script>\n",
              "      const buttonEl =\n",
              "        document.querySelector('#df-fb801e1a-1bd9-426b-9336-61a0832624cc button.colab-df-convert');\n",
              "      buttonEl.style.display =\n",
              "        google.colab.kernel.accessAllowed ? 'block' : 'none';\n",
              "\n",
              "      async function convertToInteractive(key) {\n",
              "        const element = document.querySelector('#df-fb801e1a-1bd9-426b-9336-61a0832624cc');\n",
              "        const dataTable =\n",
              "          await google.colab.kernel.invokeFunction('convertToInteractive',\n",
              "                                                    [key], {});\n",
              "        if (!dataTable) return;\n",
              "\n",
              "        const docLinkHtml = 'Like what you see? Visit the ' +\n",
              "          '<a target=\"_blank\" href=https://colab.research.google.com/notebooks/data_table.ipynb>data table notebook</a>'\n",
              "          + ' to learn more about interactive tables.';\n",
              "        element.innerHTML = '';\n",
              "        dataTable['output_type'] = 'display_data';\n",
              "        await google.colab.output.renderOutput(dataTable, element);\n",
              "        const docLink = document.createElement('div');\n",
              "        docLink.innerHTML = docLinkHtml;\n",
              "        element.appendChild(docLink);\n",
              "      }\n",
              "    </script>\n",
              "  </div>\n",
              "\n",
              "    </div>\n",
              "  </div>\n"
            ]
          },
          "metadata": {},
          "execution_count": 14
        }
      ]
    },
    {
      "cell_type": "code",
      "source": [
        "x.to_csv (r'/content/my_data.csv')"
      ],
      "metadata": {
        "id": "GJPkS3-woy2u"
      },
      "execution_count": 12,
      "outputs": []
    },
    {
      "cell_type": "code",
      "source": [
        "from datetime import datetime, time"
      ],
      "metadata": {
        "id": "AfeyjWrKrkGG"
      },
      "execution_count": 15,
      "outputs": []
    },
    {
      "cell_type": "code",
      "source": [
        "now = datetime. now()\n",
        "now"
      ],
      "metadata": {
        "id": "SHdn-7cFru34",
        "outputId": "ef1fab6a-ad1c-4480-b4d7-d888aa59de4e",
        "colab": {
          "base_uri": "https://localhost:8080/"
        }
      },
      "execution_count": 21,
      "outputs": [
        {
          "output_type": "execute_result",
          "data": {
            "text/plain": [
              "datetime.datetime(2023, 11, 9, 10, 52, 8, 271182)"
            ]
          },
          "metadata": {},
          "execution_count": 21
        }
      ]
    },
    {
      "cell_type": "code",
      "source": [
        "dt_string = now. strftime(\"%d/%m/%Y %H:%M\")\n",
        "dt_string"
      ],
      "metadata": {
        "id": "MRWdEmNxsZB_",
        "outputId": "0b42e5bb-6868-4873-fb89-17f757028bf3",
        "colab": {
          "base_uri": "https://localhost:8080/",
          "height": 36
        }
      },
      "execution_count": 18,
      "outputs": [
        {
          "output_type": "execute_result",
          "data": {
            "text/plain": [
              "'09/11/2023 10:46'"
            ],
            "application/vnd.google.colaboratory.intrinsic+json": {
              "type": "string"
            }
          },
          "metadata": {},
          "execution_count": 18
        }
      ]
    },
    {
      "cell_type": "code",
      "source": [
        "now = datetime.now().strftime(\"%d/%m/%Y %H:%M\")\n",
        "now"
      ],
      "metadata": {
        "id": "LLml3Jm9snau",
        "outputId": "3357de61-d679-4e48-c61e-05b639ae4fd9",
        "colab": {
          "base_uri": "https://localhost:8080/",
          "height": 36
        }
      },
      "execution_count": 19,
      "outputs": [
        {
          "output_type": "execute_result",
          "data": {
            "text/plain": [
              "'09/11/2023 10:49'"
            ],
            "application/vnd.google.colaboratory.intrinsic+json": {
              "type": "string"
            }
          },
          "metadata": {},
          "execution_count": 19
        }
      ]
    },
    {
      "cell_type": "code",
      "source": [
        "type(now)"
      ],
      "metadata": {
        "id": "2kJC8bZqtbAP",
        "outputId": "d85a2274-ff90-4408-94f4-4f11e6186d2e",
        "colab": {
          "base_uri": "https://localhost:8080/"
        }
      },
      "execution_count": 22,
      "outputs": [
        {
          "output_type": "execute_result",
          "data": {
            "text/plain": [
              "datetime.datetime"
            ]
          },
          "metadata": {},
          "execution_count": 22
        }
      ]
    }
  ]
}