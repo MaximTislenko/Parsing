{
  "nbformat": 4,
  "nbformat_minor": 0,
  "metadata": {
    "colab": {
      "provenance": [],
      "authorship_tag": "ABX9TyNX/DuT6HuPdAw2Dlv6uSpr",
      "include_colab_link": true
    },
    "kernelspec": {
      "name": "python3",
      "display_name": "Python 3"
    },
    "language_info": {
      "name": "python"
    }
  },
  "cells": [
    {
      "cell_type": "markdown",
      "metadata": {
        "id": "view-in-github",
        "colab_type": "text"
      },
      "source": [
        "<a href=\"https://colab.research.google.com/github/MaximTislenko/Parsing/blob/main/Parsing_01.ipynb\" target=\"_parent\"><img src=\"https://colab.research.google.com/assets/colab-badge.svg\" alt=\"Open In Colab\"/></a>"
      ]
    },
    {
      "cell_type": "code",
      "execution_count": 4,
      "metadata": {
        "id": "_NGUWAh7mqAO"
      },
      "outputs": [],
      "source": [
        "from bs4 import BeautifulSoup"
      ]
    },
    {
      "cell_type": "code",
      "source": [
        "import requests"
      ],
      "metadata": {
        "id": "TXgt5yHimtew"
      },
      "execution_count": 5,
      "outputs": []
    },
    {
      "cell_type": "code",
      "source": [
        "from http.cookiejar import CookieJar\n",
        "url = 'https://yandex.com.am/weather/?lat=56.33122827234496&lon=37.540197101642505'\n",
        "response = requests.get(url)\n",
        "bs = BeautifulSoup(response.text,\"lxml\")\n",
        "temp = (bs.find('span', 'temp__value temp__value_with-unit')).text\n",
        "speed = (bs.find('span', 'wind-speed')).text\n",
        "direction = (bs.find('abbr', 'icon-abbr')).text\n",
        "humidity = (bs.find('div', 'term term_orient_v fact__humidity')).text[:2]\n",
        "pressure = (bs.find('div', 'term term_orient_v fact__pressure')).text[:3]\n",
        "print('Погода в райне моего дома')\n",
        "print('=' * 25)\n",
        "print('Температура - ', temp,'\\u00b0','C')\n",
        "print('-' * 25)\n",
        "print('Ветер - ', direction, 'со скоростью ', speed, ' метров в секунду')\n",
        "print('-' * 25)\n",
        "print('Влажность - ', humidity, '%')\n",
        "print('-' * 25)\n",
        "print('Давление - ', pressure,' мм.рт.ст.')"
      ],
      "metadata": {
        "colab": {
          "base_uri": "https://localhost:8080/"
        },
        "id": "x5ZNOIeimyvP",
        "outputId": "3e3b804f-f1d5-4885-f368-f0b3cc6fbddc"
      },
      "execution_count": 6,
      "outputs": [
        {
          "output_type": "stream",
          "name": "stdout",
          "text": [
            "Погода в райне моего дома\n",
            "=========================\n",
            "Температура -  +7 ° C\n",
            "-------------------------\n",
            "Ветер -  ЮЗ со скоростью  1,6  метров в секунду\n",
            "-------------------------\n",
            "Влажность -  92 %\n",
            "-------------------------\n",
            "Давление -  742  мм.рт.ст.\n"
          ]
        }
      ]
    }
  ]
}