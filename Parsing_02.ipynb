{
  "nbformat": 4,
  "nbformat_minor": 0,
  "metadata": {
    "colab": {
      "provenance": [],
      "authorship_tag": "ABX9TyObQQHLmsz+gQMJzx7J3W2F",
      "include_colab_link": true
    },
    "kernelspec": {
      "name": "python3",
      "display_name": "Python 3"
    },
    "language_info": {
      "name": "python"
    }
  },
  "cells": [
    {
      "cell_type": "markdown",
      "metadata": {
        "id": "view-in-github",
        "colab_type": "text"
      },
      "source": [
        "<a href=\"https://colab.research.google.com/github/MaximTislenko/Parsing/blob/main/Parsing_02.ipynb\" target=\"_parent\"><img src=\"https://colab.research.google.com/assets/colab-badge.svg\" alt=\"Open In Colab\"/></a>"
      ]
    },
    {
      "cell_type": "code",
      "execution_count": 7,
      "metadata": {
        "id": "_NGUWAh7mqAO"
      },
      "outputs": [],
      "source": [
        "from bs4 import BeautifulSoup"
      ]
    },
    {
      "cell_type": "code",
      "source": [
        "import requests"
      ],
      "metadata": {
        "id": "TXgt5yHimtew"
      },
      "execution_count": 8,
      "outputs": []
    },
    {
      "cell_type": "code",
      "source": [
        "from http.cookiejar import CookieJar\n",
        "url = 'https://yandex.com.am/weather/?lat=56.33122827234496&lon=37.540197101642505'\n",
        "response = requests.get(url)\n",
        "bs = BeautifulSoup(response.text,\"lxml\")\n",
        "temp = (bs.find('span', 'temp__value temp__value_with-unit')).text\n",
        "speed = (bs.find('span', 'wind-speed')).text\n",
        "direction = (bs.find('abbr', 'icon-abbr')).text\n",
        "humidity = (bs.find('div', 'term term_orient_v fact__humidity')).text[:2]\n",
        "pressure = (bs.find('div', 'term term_orient_v fact__pressure')).text[:3]\n",
        "print('Погода в райне моего дома')\n",
        "print('=' * 25)\n",
        "print('Температура - ', temp,'\\u00b0','C')\n",
        "print('-' * 25)\n",
        "print('Ветер - ', direction, 'со скоростью ', speed, ' метров в секунду')\n",
        "print('-' * 25)\n",
        "print('Влажность - ', humidity, '%')\n",
        "print('-' * 25)\n",
        "print('Давление - ', pressure,' мм.рт.ст.')"
      ],
      "metadata": {
        "colab": {
          "base_uri": "https://localhost:8080/"
        },
        "id": "x5ZNOIeimyvP",
        "outputId": "fe1c53f0-3064-4b00-d1b2-d77654a93eaf"
      },
      "execution_count": 9,
      "outputs": [
        {
          "output_type": "stream",
          "name": "stdout",
          "text": [
            "Погода в райне моего дома\n",
            "=========================\n",
            "Температура -  +7 ° C\n",
            "-------------------------\n",
            "Ветер -  ЮЗ со скоростью  1,6  метров в секунду\n",
            "-------------------------\n",
            "Влажность -  92 %\n",
            "-------------------------\n",
            "Давление -  742  мм.рт.ст.\n"
          ]
        }
      ]
    },
    {
      "cell_type": "code",
      "source": [
        "pip install schedule"
      ],
      "metadata": {
        "colab": {
          "base_uri": "https://localhost:8080/"
        },
        "id": "eN7wuxzay2DK",
        "outputId": "6c3a791d-df73-4195-fb7f-3421f06af16d"
      },
      "execution_count": 12,
      "outputs": [
        {
          "output_type": "stream",
          "name": "stdout",
          "text": [
            "Collecting schedule\n",
            "  Downloading schedule-1.2.1-py2.py3-none-any.whl (11 kB)\n",
            "Installing collected packages: schedule\n",
            "Successfully installed schedule-1.2.1\n"
          ]
        }
      ]
    },
    {
      "cell_type": "code",
      "source": [
        "import schedule\n",
        "import time\n",
        "\n",
        "def job():\n",
        "    print(\"I'm working...\")\n",
        "\n",
        "schedule.every(10).seconds.do(job)\n",
        "schedule.every(10).minutes.do(job)\n",
        "schedule.every().hour.do(job)\n",
        "schedule.every().day.at(\"10:30\").do(job)\n",
        "schedule.every(5).to(10).minutes.do(job)\n",
        "schedule.every().monday.do(job)\n",
        "schedule.every().wednesday.at(\"13:15\").do(job)\n",
        "schedule.every().day.at(\"12:42\", \"Europe/Amsterdam\").do(job)\n",
        "schedule.every().minute.at(\":17\").do(job)\n",
        "\n",
        "def job_with_argument(name):\n",
        "    print(f\"I am {name}\")\n",
        "\n",
        "schedule.every(10).seconds.do(job_with_argument, name=\"Peter\")\n",
        "\n",
        "while True:\n",
        "    schedule.run_pending()\n",
        "    time.sleep(1)"
      ],
      "metadata": {
        "colab": {
          "base_uri": "https://localhost:8080/",
          "height": 601
        },
        "id": "CgqP22XRyzBK",
        "outputId": "9602d1e2-9aa0-4db5-ffb0-0e2ee0a3b16e"
      },
      "execution_count": 13,
      "outputs": [
        {
          "output_type": "stream",
          "name": "stdout",
          "text": [
            "I'm working...\n",
            "I am Peter\n",
            "I'm working...\n",
            "I am Peter\n",
            "I'm working...\n",
            "I am Peter\n",
            "I'm working...\n",
            "I am Peter\n",
            "I'm working...\n",
            "I am Peter\n",
            "I'm working...\n",
            "I'm working...\n",
            "I am Peter\n",
            "I'm working...\n",
            "I am Peter\n",
            "I'm working...\n",
            "I am Peter\n",
            "I'm working...\n",
            "I am Peter\n",
            "I'm working...\n",
            "I am Peter\n"
          ]
        },
        {
          "output_type": "error",
          "ename": "KeyboardInterrupt",
          "evalue": "ignored",
          "traceback": [
            "\u001b[0;31m---------------------------------------------------------------------------\u001b[0m",
            "\u001b[0;31mKeyboardInterrupt\u001b[0m                         Traceback (most recent call last)",
            "\u001b[0;32m<ipython-input-13-01eb4288ecb3>\u001b[0m in \u001b[0;36m<cell line: 22>\u001b[0;34m()\u001b[0m\n\u001b[1;32m     22\u001b[0m \u001b[0;32mwhile\u001b[0m \u001b[0;32mTrue\u001b[0m\u001b[0;34m:\u001b[0m\u001b[0;34m\u001b[0m\u001b[0;34m\u001b[0m\u001b[0m\n\u001b[1;32m     23\u001b[0m     \u001b[0mschedule\u001b[0m\u001b[0;34m.\u001b[0m\u001b[0mrun_pending\u001b[0m\u001b[0;34m(\u001b[0m\u001b[0;34m)\u001b[0m\u001b[0;34m\u001b[0m\u001b[0;34m\u001b[0m\u001b[0m\n\u001b[0;32m---> 24\u001b[0;31m     \u001b[0mtime\u001b[0m\u001b[0;34m.\u001b[0m\u001b[0msleep\u001b[0m\u001b[0;34m(\u001b[0m\u001b[0;36m1\u001b[0m\u001b[0;34m)\u001b[0m\u001b[0;34m\u001b[0m\u001b[0;34m\u001b[0m\u001b[0m\n\u001b[0m",
            "\u001b[0;31mKeyboardInterrupt\u001b[0m: "
          ]
        }
      ]
    }
  ]
}